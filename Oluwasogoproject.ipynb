{
 "cells": [
  {
   "cell_type": "markdown",
   "metadata": {},
   "source": [
    "#### The heart is a muscular organ located in the precaudium and pump blood through the circulatory system to all part of the body. It is about the size of individual fist. When heart could no longer perform this pumping function it is said to experience heart failure (HF)\n",
    "#### The expected objective of this project is to develop analysis and use machine learning strategies to validate different prediction models aimed at predicting mortality among ICU-admitted HF patients.\n",
    "#### The outcome of this project is to be able to see the effect of patients paraments through machine learning in predicting the outcome of patients that are admitted in ICU because of heart failure."
   ]
  },
  {
   "cell_type": "markdown",
   "metadata": {},
   "source": [
    "### Performance Metrics\n",
    "#### The following metrics are to be use to assess the quality and reliability of our Models.\n",
    "#### 1. Accuracy: Accuracy simply measures how often the classifier correctly predicts. We can define accuracy as the ratio of the number       of correct predictions and the total number of predictions.\n",
    "#### 2. Confusion Matrix: A confusion matrix is defined as the table that is often used to describe the performance of a classification model on a set of the test data for which the true values are known.\n",
    "#### 3. Precision: It explains how many of the correctly predicted cases actually turned out to be positive. Precision is useful in the cases where False Positive is a higher concern than False Negatives\n",
    "#### 4. Recall:  It explains how many of the actual positive cases we were able to predict correctly with our model. Recall is a useful metric in cases where False Negative is of higher concern than False Positive. It is important in medical cases where it doesn’t matter whether we raise a false alarm but the actual positive cases should not go undetected!"
   ]
  },
  {
   "cell_type": "code",
   "execution_count": 1,
   "metadata": {},
   "outputs": [],
   "source": [
    "#pip install imbalanced-learn\n",
    "#pip install xgboost\n",
    "#pip instal lightgbm"
   ]
  },
  {
   "cell_type": "code",
   "execution_count": 97,
   "metadata": {},
   "outputs": [],
   "source": [
    "import streamlit as st\n",
    "import numpy as np\n",
    "import pandas as pd\n",
    "import matplotlib.pyplot as plt\n",
    "import plotly.express as px\n",
    "import seaborn as sns \n",
    "sns.set()\n",
    "from sklearn.model_selection import train_test_split\n",
    "from sklearn.ensemble import RandomForestClassifier\n",
    "from sklearn.metrics import confusion_matrix, accuracy_score, f1_score, auc,ConfusionMatrixDisplay\n",
    "from sklearn.metrics import roc_curve, roc_auc_score, balanced_accuracy_score, classification_report\n",
    "from sklearn.tree import DecisionTreeClassifier\n",
    "from sklearn.linear_model import LogisticRegression\n",
    "from sklearn.compose import ColumnTransformer  \n",
    "from sklearn.pipeline import Pipeline  \n",
    "from sklearn.impute import SimpleImputer \n",
    "from sklearn.feature_selection import SelectPercentile, chi2 \n",
    "from xgboost import XGBClassifier\n",
    "from lightgbm import LGBMClassifier\n",
    "from imblearn.over_sampling import SMOTE\n",
    "from sklearn.preprocessing import OrdinalEncoder, OneHotEncoder, LabelEncoder, StandardScaler\n",
    "#pd.set_option('display.max_rows', 50)\n",
    "pd.set_option('display.max_columns', 50)"
   ]
  },
  {
   "cell_type": "code",
   "execution_count": 3,
   "metadata": {},
   "outputs": [],
   "source": [
    "data = pd.read_csv('icudata.csv')"
   ]
  },
  {
   "cell_type": "code",
   "execution_count": 4,
   "metadata": {},
   "outputs": [
    {
     "name": "stdout",
     "output_type": "stream",
     "text": [
      "<class 'pandas.core.frame.DataFrame'>\n",
      "RangeIndex: 1177 entries, 0 to 1176\n",
      "Data columns (total 51 columns):\n",
      " #   Column                    Non-Null Count  Dtype  \n",
      "---  ------                    --------------  -----  \n",
      " 0   group                     1177 non-null   int64  \n",
      " 1   ID                        1177 non-null   int64  \n",
      " 2   outcome                   1176 non-null   float64\n",
      " 3   age                       1177 non-null   int64  \n",
      " 4   gender                    1177 non-null   int64  \n",
      " 5   BMI                       962 non-null    float64\n",
      " 6   hypertensive              1177 non-null   int64  \n",
      " 7   atrialfibrillation        1177 non-null   int64  \n",
      " 8   CHD with no MI            1177 non-null   int64  \n",
      " 9   diabetes                  1177 non-null   int64  \n",
      " 10  deficiencyanemias         1177 non-null   int64  \n",
      " 11  depression                1177 non-null   int64  \n",
      " 12  Hyperlipemia              1177 non-null   int64  \n",
      " 13  Renal failure             1177 non-null   int64  \n",
      " 14  COPD                      1177 non-null   int64  \n",
      " 15  heart rate                1164 non-null   float64\n",
      " 16  Systolic blood pressure   1161 non-null   float64\n",
      " 17  Diastolic blood pressure  1161 non-null   float64\n",
      " 18  Respiratory rate          1164 non-null   float64\n",
      " 19  temperature               1158 non-null   float64\n",
      " 20  SP O2                     1164 non-null   float64\n",
      " 21  Urine output              1141 non-null   float64\n",
      " 22  hematocrit                1177 non-null   float64\n",
      " 23  RBC                       1177 non-null   float64\n",
      " 24  MCH                       1177 non-null   float64\n",
      " 25  MCHC                      1177 non-null   float64\n",
      " 26  MCV                       1177 non-null   float64\n",
      " 27  RDW                       1177 non-null   float64\n",
      " 28  Leucocyte                 1177 non-null   float64\n",
      " 29  Platelets                 1177 non-null   float64\n",
      " 30  Neutrophils               1033 non-null   float64\n",
      " 31  Basophils                 918 non-null    float64\n",
      " 32  Lymphocyte                1032 non-null   float64\n",
      " 33  PT                        1157 non-null   float64\n",
      " 34  INR                       1157 non-null   float64\n",
      " 35  NT-proBNP                 1177 non-null   float64\n",
      " 36  Creatine kinase           1012 non-null   float64\n",
      " 37  Creatinine                1177 non-null   float64\n",
      " 38  Urea nitrogen             1177 non-null   float64\n",
      " 39  glucose                   1159 non-null   float64\n",
      " 40  Blood potassium           1177 non-null   float64\n",
      " 41  Blood sodium              1177 non-null   float64\n",
      " 42  Blood calcium             1176 non-null   float64\n",
      " 43  Chloride                  1177 non-null   float64\n",
      " 44  Anion gap                 1177 non-null   float64\n",
      " 45  Magnesium ion             1177 non-null   float64\n",
      " 46  PH                        885 non-null    float64\n",
      " 47  Bicarbonate               1177 non-null   float64\n",
      " 48  Lactic acid               948 non-null    float64\n",
      " 49  PCO2                      883 non-null    float64\n",
      " 50  EF                        1177 non-null   int64  \n",
      "dtypes: float64(37), int64(14)\n",
      "memory usage: 469.1 KB\n"
     ]
    }
   ],
   "source": [
    "data.info()"
   ]
  },
  {
   "cell_type": "code",
   "execution_count": 5,
   "metadata": {},
   "outputs": [
    {
     "data": {
      "text/plain": [
       "group                         0\n",
       "ID                            0\n",
       "outcome                       1\n",
       "age                           0\n",
       "gender                        0\n",
       "BMI                         215\n",
       "hypertensive                  0\n",
       "atrialfibrillation            0\n",
       "CHD with no MI                0\n",
       "diabetes                      0\n",
       "deficiencyanemias             0\n",
       "depression                    0\n",
       "Hyperlipemia                  0\n",
       "Renal failure                 0\n",
       "COPD                          0\n",
       "heart rate                   13\n",
       "Systolic blood pressure      16\n",
       "Diastolic blood pressure     16\n",
       "Respiratory rate             13\n",
       "temperature                  19\n",
       "SP O2                        13\n",
       "Urine output                 36\n",
       "hematocrit                    0\n",
       "RBC                           0\n",
       "MCH                           0\n",
       "MCHC                          0\n",
       "MCV                           0\n",
       "RDW                           0\n",
       "Leucocyte                     0\n",
       "Platelets                     0\n",
       "Neutrophils                 144\n",
       "Basophils                   259\n",
       "Lymphocyte                  145\n",
       "PT                           20\n",
       "INR                          20\n",
       "NT-proBNP                     0\n",
       "Creatine kinase             165\n",
       "Creatinine                    0\n",
       "Urea nitrogen                 0\n",
       "glucose                      18\n",
       "Blood potassium               0\n",
       "Blood sodium                  0\n",
       "Blood calcium                 1\n",
       "Chloride                      0\n",
       "Anion gap                     0\n",
       "Magnesium ion                 0\n",
       "PH                          292\n",
       "Bicarbonate                   0\n",
       "Lactic acid                 229\n",
       "PCO2                        294\n",
       "EF                            0\n",
       "dtype: int64"
      ]
     },
     "execution_count": 5,
     "metadata": {},
     "output_type": "execute_result"
    }
   ],
   "source": [
    "data.isnull().sum()"
   ]
  },
  {
   "cell_type": "code",
   "execution_count": 6,
   "metadata": {},
   "outputs": [
    {
     "data": {
      "text/plain": [
       "0"
      ]
     },
     "execution_count": 6,
     "metadata": {},
     "output_type": "execute_result"
    }
   ],
   "source": [
    "data.duplicated().sum()"
   ]
  },
  {
   "cell_type": "code",
   "execution_count": 7,
   "metadata": {},
   "outputs": [],
   "source": [
    "#### We are loading some features of importance from our dataset into a pandas dataframe for prediction of model performance. This will be named data2"
   ]
  },
  {
   "cell_type": "code",
   "execution_count": 8,
   "metadata": {},
   "outputs": [],
   "source": [
    "#### The features are that are being called from the general data have been found to have effects of the morbidity and mortality of patients with HF"
   ]
  },
  {
   "cell_type": "code",
   "execution_count": 9,
   "metadata": {},
   "outputs": [],
   "source": [
    "#A1\n",
    "cols = [ 'group', 'outcome', 'age', 'gender', 'hypertensive', 'atrialfibrillation', 'CHD with no MI', 'diabetes', 'deficiencyanemias', 'depression', 'Hyperlipemia', 'Renal failure', 'COPD', 'Creatinine', 'Diastolic blood pressure', 'Systolic blood pressure', ]"
   ]
  },
  {
   "cell_type": "code",
   "execution_count": 10,
   "metadata": {},
   "outputs": [
    {
     "data": {
      "text/html": [
       "<div>\n",
       "<style scoped>\n",
       "    .dataframe tbody tr th:only-of-type {\n",
       "        vertical-align: middle;\n",
       "    }\n",
       "\n",
       "    .dataframe tbody tr th {\n",
       "        vertical-align: top;\n",
       "    }\n",
       "\n",
       "    .dataframe thead th {\n",
       "        text-align: right;\n",
       "    }\n",
       "</style>\n",
       "<table border=\"1\" class=\"dataframe\">\n",
       "  <thead>\n",
       "    <tr style=\"text-align: right;\">\n",
       "      <th></th>\n",
       "      <th>group</th>\n",
       "      <th>outcome</th>\n",
       "      <th>age</th>\n",
       "      <th>gender</th>\n",
       "      <th>hypertensive</th>\n",
       "      <th>atrialfibrillation</th>\n",
       "      <th>CHD with no MI</th>\n",
       "      <th>diabetes</th>\n",
       "      <th>deficiencyanemias</th>\n",
       "      <th>depression</th>\n",
       "      <th>Hyperlipemia</th>\n",
       "      <th>Renal failure</th>\n",
       "      <th>COPD</th>\n",
       "      <th>Systolic blood pressure</th>\n",
       "      <th>Diastolic blood pressure</th>\n",
       "      <th>Creatinine</th>\n",
       "    </tr>\n",
       "  </thead>\n",
       "  <tbody>\n",
       "    <tr>\n",
       "      <th>0</th>\n",
       "      <td>1</td>\n",
       "      <td>0.0</td>\n",
       "      <td>72</td>\n",
       "      <td>1</td>\n",
       "      <td>0</td>\n",
       "      <td>0</td>\n",
       "      <td>0</td>\n",
       "      <td>1</td>\n",
       "      <td>1</td>\n",
       "      <td>0</td>\n",
       "      <td>1</td>\n",
       "      <td>1</td>\n",
       "      <td>0</td>\n",
       "      <td>155.866667</td>\n",
       "      <td>68.333333</td>\n",
       "      <td>1.958333</td>\n",
       "    </tr>\n",
       "    <tr>\n",
       "      <th>1</th>\n",
       "      <td>1</td>\n",
       "      <td>0.0</td>\n",
       "      <td>75</td>\n",
       "      <td>2</td>\n",
       "      <td>0</td>\n",
       "      <td>0</td>\n",
       "      <td>0</td>\n",
       "      <td>0</td>\n",
       "      <td>1</td>\n",
       "      <td>0</td>\n",
       "      <td>0</td>\n",
       "      <td>0</td>\n",
       "      <td>1</td>\n",
       "      <td>140.000000</td>\n",
       "      <td>65.000000</td>\n",
       "      <td>1.122222</td>\n",
       "    </tr>\n",
       "    <tr>\n",
       "      <th>2</th>\n",
       "      <td>1</td>\n",
       "      <td>0.0</td>\n",
       "      <td>83</td>\n",
       "      <td>2</td>\n",
       "      <td>0</td>\n",
       "      <td>0</td>\n",
       "      <td>0</td>\n",
       "      <td>0</td>\n",
       "      <td>1</td>\n",
       "      <td>0</td>\n",
       "      <td>0</td>\n",
       "      <td>1</td>\n",
       "      <td>0</td>\n",
       "      <td>135.333333</td>\n",
       "      <td>61.375000</td>\n",
       "      <td>1.871429</td>\n",
       "    </tr>\n",
       "    <tr>\n",
       "      <th>3</th>\n",
       "      <td>1</td>\n",
       "      <td>0.0</td>\n",
       "      <td>43</td>\n",
       "      <td>2</td>\n",
       "      <td>0</td>\n",
       "      <td>0</td>\n",
       "      <td>0</td>\n",
       "      <td>0</td>\n",
       "      <td>0</td>\n",
       "      <td>0</td>\n",
       "      <td>0</td>\n",
       "      <td>0</td>\n",
       "      <td>0</td>\n",
       "      <td>126.400000</td>\n",
       "      <td>73.200000</td>\n",
       "      <td>0.585714</td>\n",
       "    </tr>\n",
       "    <tr>\n",
       "      <th>4</th>\n",
       "      <td>1</td>\n",
       "      <td>0.0</td>\n",
       "      <td>75</td>\n",
       "      <td>2</td>\n",
       "      <td>1</td>\n",
       "      <td>0</td>\n",
       "      <td>0</td>\n",
       "      <td>0</td>\n",
       "      <td>1</td>\n",
       "      <td>0</td>\n",
       "      <td>0</td>\n",
       "      <td>1</td>\n",
       "      <td>1</td>\n",
       "      <td>156.560000</td>\n",
       "      <td>58.120000</td>\n",
       "      <td>1.950000</td>\n",
       "    </tr>\n",
       "  </tbody>\n",
       "</table>\n",
       "</div>"
      ],
      "text/plain": [
       "   group  outcome  age  gender  hypertensive  atrialfibrillation  \\\n",
       "0      1      0.0   72       1             0                   0   \n",
       "1      1      0.0   75       2             0                   0   \n",
       "2      1      0.0   83       2             0                   0   \n",
       "3      1      0.0   43       2             0                   0   \n",
       "4      1      0.0   75       2             1                   0   \n",
       "\n",
       "   CHD with no MI  diabetes  deficiencyanemias  depression  Hyperlipemia  \\\n",
       "0               0         1                  1           0             1   \n",
       "1               0         0                  1           0             0   \n",
       "2               0         0                  1           0             0   \n",
       "3               0         0                  0           0             0   \n",
       "4               0         0                  1           0             0   \n",
       "\n",
       "   Renal failure  COPD  Systolic blood pressure  Diastolic blood pressure  \\\n",
       "0              1     0               155.866667                 68.333333   \n",
       "1              0     1               140.000000                 65.000000   \n",
       "2              1     0               135.333333                 61.375000   \n",
       "3              0     0               126.400000                 73.200000   \n",
       "4              1     1               156.560000                 58.120000   \n",
       "\n",
       "   Creatinine  \n",
       "0    1.958333  \n",
       "1    1.122222  \n",
       "2    1.871429  \n",
       "3    0.585714  \n",
       "4    1.950000  "
      ]
     },
     "execution_count": 10,
     "metadata": {},
     "output_type": "execute_result"
    }
   ],
   "source": [
    "data2 = pd.read_csv('icudata.csv', usecols=cols)\n",
    "data2.head()\n"
   ]
  },
  {
   "cell_type": "code",
   "execution_count": 11,
   "metadata": {},
   "outputs": [
    {
     "data": {
      "text/plain": [
       "(1177, 16)"
      ]
     },
     "execution_count": 11,
     "metadata": {},
     "output_type": "execute_result"
    }
   ],
   "source": [
    "data2.shape"
   ]
  },
  {
   "cell_type": "code",
   "execution_count": 12,
   "metadata": {},
   "outputs": [
    {
     "data": {
      "text/plain": [
       "group                        0\n",
       "outcome                      1\n",
       "age                          0\n",
       "gender                       0\n",
       "hypertensive                 0\n",
       "atrialfibrillation           0\n",
       "CHD with no MI               0\n",
       "diabetes                     0\n",
       "deficiencyanemias            0\n",
       "depression                   0\n",
       "Hyperlipemia                 0\n",
       "Renal failure                0\n",
       "COPD                         0\n",
       "Systolic blood pressure     16\n",
       "Diastolic blood pressure    16\n",
       "Creatinine                   0\n",
       "dtype: int64"
      ]
     },
     "execution_count": 12,
     "metadata": {},
     "output_type": "execute_result"
    }
   ],
   "source": [
    "data2.isnull().sum()"
   ]
  },
  {
   "cell_type": "code",
   "execution_count": 13,
   "metadata": {},
   "outputs": [],
   "source": [
    "missing_percentages = data2.isnull().mean()*100"
   ]
  },
  {
   "cell_type": "code",
   "execution_count": 14,
   "metadata": {},
   "outputs": [],
   "source": [
    "missing_percentages_sorted = missing_percentages.sort_values(ascending=False)"
   ]
  },
  {
   "cell_type": "code",
   "execution_count": 15,
   "metadata": {},
   "outputs": [
    {
     "data": {
      "image/png": "[encoded data removed]",
      "text/plain": [
       "<Figure size 1200x600 with 1 Axes>"
      ]
     },
     "metadata": {},
     "output_type": "display_data"
    }
   ],
   "source": [
    "plt.figure(figsize=(12, 6))\n",
    "missing_percentages_sorted.plot.bar()\n",
    "plt.ylabel('Percentage of missing values')\n",
    "plt.xlabel('Variables')\n",
    "plt.title('Quantifying Missing Data')\n",
    "plt.show()"
   ]
  },
  {
   "cell_type": "code",
   "execution_count": 16,
   "metadata": {},
   "outputs": [],
   "source": [
    "#A2 Split data2 into train and test data\n",
    "\n",
    "train2,test2 = train_test_split(\n",
    "    data2, test_size=0.2,\n",
    "    random_state=42\n",
    ")"
   ]
  },
  {
   "cell_type": "code",
   "execution_count": 17,
   "metadata": {},
   "outputs": [
    {
     "name": "stdout",
     "output_type": "stream",
     "text": [
      "(1177, 16)\n",
      "(941, 16)\n",
      "(236, 16)\n"
     ]
    }
   ],
   "source": [
    "print(data2.shape)\n",
    "print(train2.shape)\n",
    "print(test2.shape)"
   ]
  },
  {
   "cell_type": "code",
   "execution_count": 18,
   "metadata": {},
   "outputs": [],
   "source": [
    "#A3 To rearrange the index of the data\n",
    "\n",
    "train2.reset_index(drop=True, inplace=True)"
   ]
  },
  {
   "cell_type": "code",
   "execution_count": 19,
   "metadata": {},
   "outputs": [],
   "source": [
    "#A4 To address missing values in the train2 drop NaN because there is only one missing value in the target column i.e. outcome also for Systolic and Diastolic blood pressure the proportion of missingness is 1.4% and because of how sensitive the data is imputation will affect our prediction outcome. \n",
    "\n",
    "train2 = train2.dropna()"
   ]
  },
  {
   "cell_type": "code",
   "execution_count": 20,
   "metadata": {},
   "outputs": [
    {
     "data": {
      "text/plain": [
       "0"
      ]
     },
     "execution_count": 20,
     "metadata": {},
     "output_type": "execute_result"
    }
   ],
   "source": [
    "# Check for duplicate data in train2\n",
    "\n",
    "train2.duplicated().sum()"
   ]
  },
  {
   "cell_type": "code",
   "execution_count": 21,
   "metadata": {},
   "outputs": [],
   "source": [
    "for col in train2.columns:\n",
    "    if train2[col].dtype == 'object':\n",
    "        print(f'{col}:\\nhas the following classes\\n{train2[col].unique()}\\n')"
   ]
  },
  {
   "cell_type": "code",
   "execution_count": 22,
   "metadata": {},
   "outputs": [],
   "source": [
    "#### Removing outliers from continuous variable in train2 before spliting to X and y train. "
   ]
  },
  {
   "cell_type": "code",
   "execution_count": 23,
   "metadata": {},
   "outputs": [],
   "source": [
    "# define function to remove outliers\n",
    "def drop_outlier(train2,var):\n",
    "    q1, q3 = np.percentile(train2[var], [25, 75])\n",
    "    iqr = q3 - q1\n",
    "    lower = q1 - 1.5*iqr\n",
    "    upper = q3 + 1.5*iqr\n",
    "    train2 = train2[train2[var]< upper]\n",
    "    train2 = train2[train2[var]> lower]\n",
    "    train2.reset_index(drop=True, inplace = True)\n",
    "    return train2"
   ]
  },
  {
   "cell_type": "code",
   "execution_count": 24,
   "metadata": {},
   "outputs": [],
   "source": [
    "#A5 Dropping outliers in age\n",
    "\n",
    "train2_out = drop_outlier(train2,'age')"
   ]
  },
  {
   "cell_type": "code",
   "execution_count": 25,
   "metadata": {},
   "outputs": [
    {
     "data": {
      "text/plain": [
       "(922, 16)"
      ]
     },
     "execution_count": 25,
     "metadata": {},
     "output_type": "execute_result"
    }
   ],
   "source": [
    "train2_out.shape"
   ]
  },
  {
   "cell_type": "code",
   "execution_count": 26,
   "metadata": {},
   "outputs": [],
   "source": [
    "### Feature - Target Split"
   ]
  },
  {
   "cell_type": "code",
   "execution_count": 27,
   "metadata": {},
   "outputs": [
    {
     "name": "stdout",
     "output_type": "stream",
     "text": [
      "(922, 15)\n"
     ]
    }
   ],
   "source": [
    "#A6 Split Data\n",
    "target = 'outcome'\n",
    "X_train2 = train2_out.drop(target, axis=1)\n",
    "y_train2 = train2_out[target]\n",
    "\n",
    "print(X_train2.shape )"
   ]
  },
  {
   "cell_type": "code",
   "execution_count": 28,
   "metadata": {},
   "outputs": [
    {
     "name": "stdout",
     "output_type": "stream",
     "text": [
      "(922,)\n"
     ]
    }
   ],
   "source": [
    "print(y_train2.shape)"
   ]
  },
  {
   "cell_type": "code",
   "execution_count": 29,
   "metadata": {},
   "outputs": [],
   "source": [
    "#To check for data composition in target (y_train)\n",
    "\n",
    "grp_data = pd.concat([X_train2,y_train2],axis=1)"
   ]
  },
  {
   "cell_type": "code",
   "execution_count": 30,
   "metadata": {},
   "outputs": [
    {
     "data": {
      "text/plain": [
       "outcome\n",
       "0.0    802\n",
       "1.0    120\n",
       "Name: count, dtype: int64"
      ]
     },
     "execution_count": 30,
     "metadata": {},
     "output_type": "execute_result"
    }
   ],
   "source": [
    "grp_data[target].value_counts()"
   ]
  },
  {
   "cell_type": "code",
   "execution_count": 31,
   "metadata": {},
   "outputs": [
    {
     "name": "stdout",
     "output_type": "stream",
     "text": [
      "outcome\n",
      "0.0    0.869848\n",
      "1.0    0.130152\n",
      "Name: count, dtype: float64\n"
     ]
    }
   ],
   "source": [
    "label_freq = grp_data[target].value_counts() / len(grp_data)\n",
    "print(label_freq)"
   ]
  },
  {
   "cell_type": "code",
   "execution_count": 32,
   "metadata": {},
   "outputs": [
    {
     "data": {
      "text/plain": [
       "Text(0.5, 1.0, 'Identifying Rare Categories')"
      ]
     },
     "execution_count": 32,
     "metadata": {},
     "output_type": "execute_result"
    },
    {
     "data": {
      "image/png": "[encoded data removed]",
      "text/plain": [
       "<Figure size 640x480 with 1 Axes>"
      ]
     },
     "metadata": {},
     "output_type": "display_data"
    }
   ],
   "source": [
    "fig = label_freq.sort_values(ascending=False).plot.bar()\n",
    "fig.axhline(y=0.05,)\n",
    "fig.set_ylabel('Proportion of outcome within each category')\n",
    "fig.set_xlabel('Variable: outcome')\n",
    "fig.set_title('Identifying Rare Categories')"
   ]
  },
  {
   "cell_type": "code",
   "execution_count": 33,
   "metadata": {},
   "outputs": [],
   "source": [
    "##The minority class here (\"1\"- Death as an outcome) are the anomalies."
   ]
  },
  {
   "cell_type": "code",
   "execution_count": 34,
   "metadata": {},
   "outputs": [],
   "source": [
    "## Data balancing by upsampling of 1 in outcome to meet up with 0. X_train and y_train were renamed X_train_bal and y_train_bal after upsampling with SMOTE"
   ]
  },
  {
   "cell_type": "code",
   "execution_count": 35,
   "metadata": {},
   "outputs": [],
   "source": [
    "#A7\n",
    "\n",
    "smote = SMOTE()\n",
    "X_train2_bal, y_train2_bal = smote.fit_resample(X_train2,y_train2)"
   ]
  },
  {
   "cell_type": "code",
   "execution_count": 36,
   "metadata": {},
   "outputs": [
    {
     "name": "stdout",
     "output_type": "stream",
     "text": [
      "Original y shape: Counter({0.0: 802, 1.0: 120})\n",
      "Resampled y shape: Counter({0.0: 802, 1.0: 802})\n"
     ]
    }
   ],
   "source": [
    "from collections import Counter\n",
    "print('Original y shape:',Counter(y_train2))\n",
    "print('Resampled y shape:',Counter(y_train2_bal))"
   ]
  },
  {
   "cell_type": "code",
   "execution_count": 37,
   "metadata": {},
   "outputs": [
    {
     "name": "stdout",
     "output_type": "stream",
     "text": [
      "outcome\n",
      "0.0    0.5\n",
      "1.0    0.5\n",
      "Name: count, dtype: float64\n"
     ]
    }
   ],
   "source": [
    "label_freq_bal = y_train2_bal.value_counts() / len(y_train2_bal)\n",
    "print(label_freq_bal)"
   ]
  },
  {
   "cell_type": "code",
   "execution_count": 38,
   "metadata": {},
   "outputs": [
    {
     "data": {
      "text/plain": [
       "Text(0.5, 1.0, 'Balancing Rare Categories')"
      ]
     },
     "execution_count": 38,
     "metadata": {},
     "output_type": "execute_result"
    },
    {
     "data": {
      "image/png": "[encoded data removed]",
      "text/plain": [
       "<Figure size 640x480 with 1 Axes>"
      ]
     },
     "metadata": {},
     "output_type": "display_data"
    }
   ],
   "source": [
    "fig = label_freq_bal.sort_values(ascending=False).plot.bar()\n",
    "fig.axhline(y=0.05,)\n",
    "fig.set_ylabel('Proportion of Resampled y shape within each category')\n",
    "fig.set_xlabel('Variable: Resampled y shape')\n",
    "fig.set_title('Balancing Rare Categories')"
   ]
  },
  {
   "cell_type": "code",
   "execution_count": 39,
   "metadata": {},
   "outputs": [],
   "source": [
    "## Feature Engineering"
   ]
  },
  {
   "cell_type": "code",
   "execution_count": 40,
   "metadata": {},
   "outputs": [
    {
     "data": {
      "text/html": [
       "<div>\n",
       "<style scoped>\n",
       "    .dataframe tbody tr th:only-of-type {\n",
       "        vertical-align: middle;\n",
       "    }\n",
       "\n",
       "    .dataframe tbody tr th {\n",
       "        vertical-align: top;\n",
       "    }\n",
       "\n",
       "    .dataframe thead th {\n",
       "        text-align: right;\n",
       "    }\n",
       "</style>\n",
       "<table border=\"1\" class=\"dataframe\">\n",
       "  <thead>\n",
       "    <tr style=\"text-align: right;\">\n",
       "      <th></th>\n",
       "      <th>group</th>\n",
       "      <th>age</th>\n",
       "      <th>gender</th>\n",
       "      <th>hypertensive</th>\n",
       "      <th>atrialfibrillation</th>\n",
       "      <th>CHD with no MI</th>\n",
       "      <th>diabetes</th>\n",
       "      <th>deficiencyanemias</th>\n",
       "      <th>depression</th>\n",
       "      <th>Hyperlipemia</th>\n",
       "      <th>Renal failure</th>\n",
       "      <th>COPD</th>\n",
       "      <th>Systolic blood pressure</th>\n",
       "      <th>Diastolic blood pressure</th>\n",
       "      <th>Creatinine</th>\n",
       "    </tr>\n",
       "  </thead>\n",
       "  <tbody>\n",
       "    <tr>\n",
       "      <th>0</th>\n",
       "      <td>1</td>\n",
       "      <td>81</td>\n",
       "      <td>2</td>\n",
       "      <td>1</td>\n",
       "      <td>0</td>\n",
       "      <td>0</td>\n",
       "      <td>0</td>\n",
       "      <td>0</td>\n",
       "      <td>0</td>\n",
       "      <td>1</td>\n",
       "      <td>0</td>\n",
       "      <td>0</td>\n",
       "      <td>121.904762</td>\n",
       "      <td>51.714286</td>\n",
       "      <td>0.780000</td>\n",
       "    </tr>\n",
       "    <tr>\n",
       "      <th>1</th>\n",
       "      <td>1</td>\n",
       "      <td>82</td>\n",
       "      <td>1</td>\n",
       "      <td>1</td>\n",
       "      <td>1</td>\n",
       "      <td>0</td>\n",
       "      <td>0</td>\n",
       "      <td>1</td>\n",
       "      <td>0</td>\n",
       "      <td>1</td>\n",
       "      <td>1</td>\n",
       "      <td>0</td>\n",
       "      <td>113.423077</td>\n",
       "      <td>49.520000</td>\n",
       "      <td>1.588889</td>\n",
       "    </tr>\n",
       "    <tr>\n",
       "      <th>2</th>\n",
       "      <td>1</td>\n",
       "      <td>52</td>\n",
       "      <td>1</td>\n",
       "      <td>1</td>\n",
       "      <td>0</td>\n",
       "      <td>0</td>\n",
       "      <td>1</td>\n",
       "      <td>0</td>\n",
       "      <td>1</td>\n",
       "      <td>1</td>\n",
       "      <td>0</td>\n",
       "      <td>0</td>\n",
       "      <td>121.250000</td>\n",
       "      <td>77.833333</td>\n",
       "      <td>0.838462</td>\n",
       "    </tr>\n",
       "    <tr>\n",
       "      <th>3</th>\n",
       "      <td>1</td>\n",
       "      <td>89</td>\n",
       "      <td>2</td>\n",
       "      <td>0</td>\n",
       "      <td>1</td>\n",
       "      <td>0</td>\n",
       "      <td>0</td>\n",
       "      <td>0</td>\n",
       "      <td>0</td>\n",
       "      <td>0</td>\n",
       "      <td>0</td>\n",
       "      <td>0</td>\n",
       "      <td>95.517857</td>\n",
       "      <td>47.178571</td>\n",
       "      <td>1.700000</td>\n",
       "    </tr>\n",
       "    <tr>\n",
       "      <th>4</th>\n",
       "      <td>1</td>\n",
       "      <td>89</td>\n",
       "      <td>2</td>\n",
       "      <td>1</td>\n",
       "      <td>1</td>\n",
       "      <td>0</td>\n",
       "      <td>0</td>\n",
       "      <td>0</td>\n",
       "      <td>0</td>\n",
       "      <td>0</td>\n",
       "      <td>0</td>\n",
       "      <td>0</td>\n",
       "      <td>115.093750</td>\n",
       "      <td>54.500000</td>\n",
       "      <td>0.611111</td>\n",
       "    </tr>\n",
       "  </tbody>\n",
       "</table>\n",
       "</div>"
      ],
      "text/plain": [
       "   group  age  gender  hypertensive  atrialfibrillation  CHD with no MI  \\\n",
       "0      1   81       2             1                   0               0   \n",
       "1      1   82       1             1                   1               0   \n",
       "2      1   52       1             1                   0               0   \n",
       "3      1   89       2             0                   1               0   \n",
       "4      1   89       2             1                   1               0   \n",
       "\n",
       "   diabetes  deficiencyanemias  depression  Hyperlipemia  Renal failure  COPD  \\\n",
       "0         0                  0           0             1              0     0   \n",
       "1         0                  1           0             1              1     0   \n",
       "2         1                  0           1             1              0     0   \n",
       "3         0                  0           0             0              0     0   \n",
       "4         0                  0           0             0              0     0   \n",
       "\n",
       "   Systolic blood pressure  Diastolic blood pressure  Creatinine  \n",
       "0               121.904762                 51.714286    0.780000  \n",
       "1               113.423077                 49.520000    1.588889  \n",
       "2               121.250000                 77.833333    0.838462  \n",
       "3                95.517857                 47.178571    1.700000  \n",
       "4               115.093750                 54.500000    0.611111  "
      ]
     },
     "execution_count": 40,
     "metadata": {},
     "output_type": "execute_result"
    }
   ],
   "source": [
    "X_train2.head()"
   ]
  },
  {
   "cell_type": "code",
   "execution_count": 41,
   "metadata": {},
   "outputs": [],
   "source": [
    "#A8\n",
    "target = 'outcome'\n",
    "X_train2 = train2_out.drop(\"outcome\", axis=1)\n",
    "\n",
    "y_train2 = train2_out[\"outcome\"]\n"
   ]
  },
  {
   "cell_type": "code",
   "execution_count": 42,
   "metadata": {},
   "outputs": [
    {
     "name": "stdout",
     "output_type": "stream",
     "text": [
      "outcome\n",
      "0.0    802\n",
      "1.0    120\n",
      "Name: count, dtype: int64\n"
     ]
    }
   ],
   "source": [
    "label_freq = train2_out['outcome'].value_counts()\n",
    "print(label_freq)"
   ]
  },
  {
   "cell_type": "code",
   "execution_count": 43,
   "metadata": {},
   "outputs": [
    {
     "data": {
      "text/plain": [
       "outcome\n",
       "0.0    802\n",
       "1.0    120\n",
       "Name: count, dtype: int64"
      ]
     },
     "execution_count": 43,
     "metadata": {},
     "output_type": "execute_result"
    }
   ],
   "source": [
    "y_train2.value_counts()"
   ]
  },
  {
   "cell_type": "code",
   "execution_count": 44,
   "metadata": {},
   "outputs": [],
   "source": [
    "## Defining terms for Systolic blood pressure"
   ]
  },
  {
   "cell_type": "code",
   "execution_count": 45,
   "metadata": {},
   "outputs": [],
   "source": [
    "def classifySystolicbloodpressure (Systolic_blood_pressure):\n",
    "    if Systolic_blood_pressure <120:\n",
    "        return 'Normal'\n",
    "    elif 120 <= Systolic_blood_pressure< 129:\n",
    "        return 'Elevated'\n",
    "    elif 130 <= Systolic_blood_pressure< 139:\n",
    "        return 'Stage 1 Hypertension'\n",
    "    elif 140 <= Systolic_blood_pressure< 189:\n",
    "        return 'Stage 2 Hypertension'\n",
    "    else: \n",
    "        return 'Hypertensive crisis'"
   ]
  },
  {
   "cell_type": "code",
   "execution_count": 46,
   "metadata": {},
   "outputs": [
    {
     "data": {
      "text/plain": [
       "'Stage 2 Hypertension'"
      ]
     },
     "execution_count": 46,
     "metadata": {},
     "output_type": "execute_result"
    }
   ],
   "source": [
    "classifySystolicbloodpressure (183)"
   ]
  },
  {
   "cell_type": "code",
   "execution_count": 47,
   "metadata": {},
   "outputs": [],
   "source": [
    "#A9\n",
    "X_train2['classifySystolicbloodpressure'] = X_train2['Systolic blood pressure'].apply(classifySystolicbloodpressure)"
   ]
  },
  {
   "cell_type": "code",
   "execution_count": 48,
   "metadata": {},
   "outputs": [
    {
     "data": {
      "text/plain": [
       "array(['Elevated', 'Normal', 'Stage 1 Hypertension',\n",
       "       'Stage 2 Hypertension', 'Hypertensive crisis'], dtype=object)"
      ]
     },
     "execution_count": 48,
     "metadata": {},
     "output_type": "execute_result"
    }
   ],
   "source": [
    "X_train2['classifySystolicbloodpressure'].unique()"
   ]
  },
  {
   "cell_type": "code",
   "execution_count": 49,
   "metadata": {},
   "outputs": [],
   "source": [
    "order = ['Normal', 'Elevated', 'Stage 1 Hypertension', 'Stage 2 Hypertension', 'Hypertensive crisis']\n",
    "\n",
    "\n",
    "classifySystolicbloodpressure_encoder = OrdinalEncoder(categories=[order], dtype=int)\n",
    "classifySystolicbloodpressure_encoder.fit(X_train2[['classifySystolicbloodpressure']])\n",
    "\n",
    "#A10\n",
    "\n",
    "X_train2['classifySystolicbloodpressure'] = classifySystolicbloodpressure_encoder.transform(X_train2[['classifySystolicbloodpressure']])\n",
    "\n"
   ]
  },
  {
   "cell_type": "code",
   "execution_count": 50,
   "metadata": {},
   "outputs": [
    {
     "data": {
      "text/plain": [
       "array([1, 0, 2, 3, 4])"
      ]
     },
     "execution_count": 50,
     "metadata": {},
     "output_type": "execute_result"
    }
   ],
   "source": [
    "X_train2['classifySystolicbloodpressure'].unique()"
   ]
  },
  {
   "cell_type": "code",
   "execution_count": 51,
   "metadata": {},
   "outputs": [],
   "source": [
    "# Createfunction for Diastolic pressure\n",
    "\n",
    "def classifyDiastolicbloodpressure (Diastolic_blood_pressure):\n",
    "    if Diastolic_blood_pressure <80:\n",
    "        return 'Normal'\n",
    "    elif 80 <= Diastolic_blood_pressure< 89:\n",
    "        return 'Stage 1 Hypertension'\n",
    "    elif 90 <= Diastolic_blood_pressure< 120:\n",
    "        return 'Stage 2 Hypertension'\n",
    "    else: \n",
    "        return 'Hypertensive crisis'"
   ]
  },
  {
   "cell_type": "code",
   "execution_count": 52,
   "metadata": {},
   "outputs": [
    {
     "data": {
      "text/plain": [
       "'Hypertensive crisis'"
      ]
     },
     "execution_count": 52,
     "metadata": {},
     "output_type": "execute_result"
    }
   ],
   "source": [
    "classifyDiastolicbloodpressure (140)"
   ]
  },
  {
   "cell_type": "code",
   "execution_count": 53,
   "metadata": {},
   "outputs": [],
   "source": [
    "#A11\n",
    "X_train2['Diastolic_blood_pressure_class'] = X_train2['Diastolic blood pressure'].apply(classifyDiastolicbloodpressure)"
   ]
  },
  {
   "cell_type": "code",
   "execution_count": 54,
   "metadata": {},
   "outputs": [
    {
     "data": {
      "text/plain": [
       "array(['Normal', 'Stage 1 Hypertension', 'Stage 2 Hypertension',\n",
       "       'Hypertensive crisis'], dtype=object)"
      ]
     },
     "execution_count": 54,
     "metadata": {},
     "output_type": "execute_result"
    }
   ],
   "source": [
    "X_train2['Diastolic_blood_pressure_class'].unique()"
   ]
  },
  {
   "cell_type": "code",
   "execution_count": 55,
   "metadata": {},
   "outputs": [],
   "source": [
    "order = ['Normal', 'Stage 1 Hypertension', 'Stage 2 Hypertension', 'Hypertensive crisis']\n",
    "\n",
    "classifyDiastolicbloodpressure_encoder = OrdinalEncoder(categories=[order], dtype=int)\n",
    "classifyDiastolicbloodpressure_encoder.fit(X_train2[['Diastolic_blood_pressure_class']])\n",
    "\n",
    "#A12\n",
    "X_train2['Diastolic_blood_pressure_class'] = classifyDiastolicbloodpressure_encoder.transform(X_train2[['Diastolic_blood_pressure_class']])"
   ]
  },
  {
   "cell_type": "code",
   "execution_count": 56,
   "metadata": {},
   "outputs": [
    {
     "data": {
      "text/plain": [
       "array([0, 1, 2, 3])"
      ]
     },
     "execution_count": 56,
     "metadata": {},
     "output_type": "execute_result"
    }
   ],
   "source": [
    "X_train2['Diastolic_blood_pressure_class'].unique()"
   ]
  },
  {
   "cell_type": "code",
   "execution_count": 57,
   "metadata": {},
   "outputs": [],
   "source": [
    "# Createfunction for Creatinine\n",
    "\n",
    "def Creatinineclass (Creatinine):\n",
    "    if Creatinine <0.6:\n",
    "        return 'Low'\n",
    "    elif 0.6 <= Creatinine< 1.3:\n",
    "        return 'Normal'\n",
    "    else: \n",
    "        return 'Elevated'"
   ]
  },
  {
   "cell_type": "code",
   "execution_count": 58,
   "metadata": {},
   "outputs": [
    {
     "data": {
      "text/plain": [
       "'Normal'"
      ]
     },
     "execution_count": 58,
     "metadata": {},
     "output_type": "execute_result"
    }
   ],
   "source": [
    "Creatinineclass(1.1)"
   ]
  },
  {
   "cell_type": "code",
   "execution_count": 59,
   "metadata": {},
   "outputs": [],
   "source": [
    "#A13\n",
    "X_train2['Creatinineclass'] = X_train2['Creatinine'].apply(Creatinineclass)"
   ]
  },
  {
   "cell_type": "code",
   "execution_count": 60,
   "metadata": {},
   "outputs": [
    {
     "data": {
      "text/plain": [
       "array(['Normal', 'Elevated', 'Low'], dtype=object)"
      ]
     },
     "execution_count": 60,
     "metadata": {},
     "output_type": "execute_result"
    }
   ],
   "source": [
    "X_train2['Creatinineclass'].unique()"
   ]
  },
  {
   "cell_type": "code",
   "execution_count": 61,
   "metadata": {},
   "outputs": [],
   "source": [
    "order = ['Low', 'Normal', 'Elevated']\n",
    "\n",
    "Creatinineclass_encoder = OrdinalEncoder(categories=[order], dtype=int)\n",
    "Creatinineclass_encoder.fit(X_train2[['Creatinineclass']])\n",
    "\n",
    "#A14\n",
    "X_train2['Creatinineclass'] = Creatinineclass_encoder.transform(X_train2[['Creatinineclass']])\n",
    "\n"
   ]
  },
  {
   "cell_type": "code",
   "execution_count": 62,
   "metadata": {},
   "outputs": [
    {
     "data": {
      "text/plain": [
       "array([1, 2, 0])"
      ]
     },
     "execution_count": 62,
     "metadata": {},
     "output_type": "execute_result"
    }
   ],
   "source": [
    "X_train2['Creatinineclass'].unique()"
   ]
  },
  {
   "cell_type": "code",
   "execution_count": 63,
   "metadata": {},
   "outputs": [],
   "source": [
    "# Create function to put age into different categorize\n",
    "\n",
    "def classifyage (age):\n",
    "    if age<18: \n",
    "        return 'Child'\n",
    "    elif 18 <= age < 44 :\n",
    "        return 'Young'\n",
    "    elif 44 <= age < 60 :\n",
    "        return 'Middle'\n",
    "    elif 60 <= age < 75:\n",
    "        return 'Elderly'\n",
    "    elif 75 <= age < 90 :\n",
    "        return 'Senile'\n",
    "    else: \n",
    "        return 'Longliver'"
   ]
  },
  {
   "cell_type": "code",
   "execution_count": 64,
   "metadata": {},
   "outputs": [
    {
     "data": {
      "text/plain": [
       "'Child'"
      ]
     },
     "execution_count": 64,
     "metadata": {},
     "output_type": "execute_result"
    }
   ],
   "source": [
    "classifyage(16)"
   ]
  },
  {
   "cell_type": "code",
   "execution_count": 65,
   "metadata": {},
   "outputs": [],
   "source": [
    "#A15\n",
    "\n",
    "X_train2['classifyage'] = X_train2['age'].apply(classifyage)"
   ]
  },
  {
   "cell_type": "code",
   "execution_count": 66,
   "metadata": {},
   "outputs": [
    {
     "data": {
      "text/plain": [
       "array(['Senile', 'Middle', 'Elderly', 'Longliver', 'Young'], dtype=object)"
      ]
     },
     "execution_count": 66,
     "metadata": {},
     "output_type": "execute_result"
    }
   ],
   "source": [
    "X_train2['classifyage'].unique()"
   ]
  },
  {
   "cell_type": "code",
   "execution_count": 67,
   "metadata": {},
   "outputs": [],
   "source": [
    "order = ['Child', 'Young', 'Middle', 'Elderly', 'Senile', 'Longliver']\n",
    "\n",
    "classifyage_encoder = OrdinalEncoder(categories=[order], dtype=int)\n",
    "classifyage_encoder.fit(X_train2[['classifyage']])\n",
    "\n",
    "#A16\n",
    "X_train2['classifyage'] = classifyage_encoder.transform(X_train2[['classifyage']])"
   ]
  },
  {
   "cell_type": "code",
   "execution_count": 68,
   "metadata": {},
   "outputs": [
    {
     "data": {
      "text/plain": [
       "array([4, 2, 3, 5, 1])"
      ]
     },
     "execution_count": 68,
     "metadata": {},
     "output_type": "execute_result"
    }
   ],
   "source": [
    "X_train2['classifyage'].unique()"
   ]
  },
  {
   "cell_type": "code",
   "execution_count": 69,
   "metadata": {},
   "outputs": [
    {
     "name": "stdout",
     "output_type": "stream",
     "text": [
      "<class 'pandas.core.frame.DataFrame'>\n",
      "RangeIndex: 922 entries, 0 to 921\n",
      "Data columns (total 19 columns):\n",
      " #   Column                          Non-Null Count  Dtype  \n",
      "---  ------                          --------------  -----  \n",
      " 0   group                           922 non-null    int64  \n",
      " 1   age                             922 non-null    int64  \n",
      " 2   gender                          922 non-null    int64  \n",
      " 3   hypertensive                    922 non-null    int64  \n",
      " 4   atrialfibrillation              922 non-null    int64  \n",
      " 5   CHD with no MI                  922 non-null    int64  \n",
      " 6   diabetes                        922 non-null    int64  \n",
      " 7   deficiencyanemias               922 non-null    int64  \n",
      " 8   depression                      922 non-null    int64  \n",
      " 9   Hyperlipemia                    922 non-null    int64  \n",
      " 10  Renal failure                   922 non-null    int64  \n",
      " 11  COPD                            922 non-null    int64  \n",
      " 12  Systolic blood pressure         922 non-null    float64\n",
      " 13  Diastolic blood pressure        922 non-null    float64\n",
      " 14  Creatinine                      922 non-null    float64\n",
      " 15  classifySystolicbloodpressure   922 non-null    int32  \n",
      " 16  Diastolic_blood_pressure_class  922 non-null    int32  \n",
      " 17  Creatinineclass                 922 non-null    int32  \n",
      " 18  classifyage                     922 non-null    int32  \n",
      "dtypes: float64(3), int32(4), int64(12)\n",
      "memory usage: 122.6 KB\n"
     ]
    }
   ],
   "source": [
    "X_train2.info()"
   ]
  },
  {
   "cell_type": "code",
   "execution_count": 70,
   "metadata": {},
   "outputs": [],
   "source": [
    "cat_col = []\n",
    "\n",
    "for i in X_train2.columns:\n",
    "    if X_train2[i].dtype == 'object':\n",
    "        cat_col.append(i)\n",
    "\n",
    "num_col = []\n",
    "\n",
    "for i in X_train2.columns:\n",
    "    if (X_train2[i].dtype == 'int32') | (X_train2[i].dtype == 'int64') |(X_train2[i].dtype == 'float64') :\n",
    "        num_col.append(i)"
   ]
  },
  {
   "cell_type": "code",
   "execution_count": 71,
   "metadata": {},
   "outputs": [],
   "source": [
    "#### Checking for correlations of the features among themselves through multicolinearity to determine the ones that are important to the target."
   ]
  },
  {
   "cell_type": "code",
   "execution_count": 72,
   "metadata": {},
   "outputs": [
    {
     "data": {
      "text/plain": [
       "<Axes: >"
      ]
     },
     "execution_count": 72,
     "metadata": {},
     "output_type": "execute_result"
    },
    {
     "data": {
      "image/png": "[encoded data removed]",
      "text/plain": [
       "<Figure size 640x480 with 1 Axes>"
      ]
     },
     "metadata": {},
     "output_type": "display_data"
    }
   ],
   "source": [
    "grp_data = pd.concat([X_train2[num_col],y_train2],axis=1)\n",
    "corre = grp_data.corr()\n",
    "target_corr = corre[target].drop(target)\n",
    "target_corr.sort_values(ascending=False,inplace=True)\n",
    "target_corr.plot(kind='barh')"
   ]
  },
  {
   "cell_type": "code",
   "execution_count": 73,
   "metadata": {},
   "outputs": [],
   "source": [
    "#### Checking for multicolinearity among the features "
   ]
  },
  {
   "cell_type": "code",
   "execution_count": 74,
   "metadata": {},
   "outputs": [
    {
     "data": {
      "text/plain": [
       "<Axes: >"
      ]
     },
     "execution_count": 74,
     "metadata": {},
     "output_type": "execute_result"
    },
    {
     "data": {
      "image/png": "[encoded data removed]",
      "text/plain": [
       "<Figure size 640x480 with 2 Axes>"
      ]
     },
     "metadata": {},
     "output_type": "display_data"
    }
   ],
   "source": [
    "corr = X_train2[num_col].corr()\n",
    "sns.heatmap(corr, annot=True, cmap='Blues')"
   ]
  },
  {
   "cell_type": "code",
   "execution_count": 75,
   "metadata": {},
   "outputs": [
    {
     "data": {
      "text/plain": [
       "[]"
      ]
     },
     "execution_count": 75,
     "metadata": {},
     "output_type": "execute_result"
    }
   ],
   "source": [
    "cat_col"
   ]
  },
  {
   "cell_type": "markdown",
   "metadata": {},
   "source": [
    "#### We are dropping some features due to multicolinearity among themselves. We drop classifyage because of its correlation to age, creatinineclass correlation to Creatinine, Diastolic_blood_pressure_class was drop for Diastolic blood pressure and classifySystolicbloodpressure was drop for Systolic blood pressure"
   ]
  },
  {
   "cell_type": "code",
   "execution_count": 76,
   "metadata": {},
   "outputs": [],
   "source": [
    "#For nominal categorical value\n",
    "onehotencoder = OneHotEncoder(handle_unknown='ignore')\n",
    "\n",
    "encoded_features = onehotencoder.fit_transform(X_train2[['Creatinineclass', 'classifyage', 'classifySystolicbloodpressure','Diastolic_blood_pressure_class']]).toarray()\n",
    "# Get the feature names for the encoded columns\n",
    "encoded_feature_names = onehotencoder.get_feature_names_out(['Creatinineclass', 'classifyage', 'classifySystolicbloodpressure', 'Diastolic_blood_pressure_class'])\n",
    "\n",
    "# Create a DataFrame for the encoded features\n",
    "encoded_df = pd.DataFrame(encoded_features, columns=encoded_feature_names)\n",
    "\n",
    "X_train2 = pd.concat([X_train2.drop(['Creatinineclass', 'classifyage', 'classifySystolicbloodpressure', 'Diastolic_blood_pressure_class'], axis=1), encoded_df], axis=1)"
   ]
  },
  {
   "cell_type": "code",
   "execution_count": 77,
   "metadata": {},
   "outputs": [],
   "source": [
    "#### Determine feature importance i.e. features that are predictors of heart failure "
   ]
  },
  {
   "cell_type": "code",
   "execution_count": 78,
   "metadata": {},
   "outputs": [
    {
     "data": {
      "text/html": [
       "<div>\n",
       "<style scoped>\n",
       "    .dataframe tbody tr th:only-of-type {\n",
       "        vertical-align: middle;\n",
       "    }\n",
       "\n",
       "    .dataframe tbody tr th {\n",
       "        vertical-align: top;\n",
       "    }\n",
       "\n",
       "    .dataframe thead th {\n",
       "        text-align: right;\n",
       "    }\n",
       "</style>\n",
       "<table border=\"1\" class=\"dataframe\">\n",
       "  <thead>\n",
       "    <tr style=\"text-align: right;\">\n",
       "      <th></th>\n",
       "      <th>0</th>\n",
       "    </tr>\n",
       "  </thead>\n",
       "  <tbody>\n",
       "    <tr>\n",
       "      <th>Diastolic blood pressure</th>\n",
       "      <td>0.238927</td>\n",
       "    </tr>\n",
       "    <tr>\n",
       "      <th>Creatinine</th>\n",
       "      <td>0.230899</td>\n",
       "    </tr>\n",
       "    <tr>\n",
       "      <th>Systolic blood pressure</th>\n",
       "      <td>0.174494</td>\n",
       "    </tr>\n",
       "    <tr>\n",
       "      <th>age</th>\n",
       "      <td>0.074119</td>\n",
       "    </tr>\n",
       "    <tr>\n",
       "      <th>Renal failure</th>\n",
       "      <td>0.067695</td>\n",
       "    </tr>\n",
       "    <tr>\n",
       "      <th>hypertensive</th>\n",
       "      <td>0.031065</td>\n",
       "    </tr>\n",
       "    <tr>\n",
       "      <th>classifyage_3</th>\n",
       "      <td>0.027511</td>\n",
       "    </tr>\n",
       "    <tr>\n",
       "      <th>gender</th>\n",
       "      <td>0.023725</td>\n",
       "    </tr>\n",
       "    <tr>\n",
       "      <th>atrialfibrillation</th>\n",
       "      <td>0.022747</td>\n",
       "    </tr>\n",
       "    <tr>\n",
       "      <th>diabetes</th>\n",
       "      <td>0.022468</td>\n",
       "    </tr>\n",
       "    <tr>\n",
       "      <th>depression</th>\n",
       "      <td>0.016898</td>\n",
       "    </tr>\n",
       "    <tr>\n",
       "      <th>group</th>\n",
       "      <td>0.014370</td>\n",
       "    </tr>\n",
       "    <tr>\n",
       "      <th>CHD with no MI</th>\n",
       "      <td>0.010401</td>\n",
       "    </tr>\n",
       "    <tr>\n",
       "      <th>classifyage_4</th>\n",
       "      <td>0.009580</td>\n",
       "    </tr>\n",
       "    <tr>\n",
       "      <th>classifySystolicbloodpressure_1</th>\n",
       "      <td>0.008877</td>\n",
       "    </tr>\n",
       "    <tr>\n",
       "      <th>COPD</th>\n",
       "      <td>0.008733</td>\n",
       "    </tr>\n",
       "    <tr>\n",
       "      <th>classifyage_2</th>\n",
       "      <td>0.006520</td>\n",
       "    </tr>\n",
       "    <tr>\n",
       "      <th>Creatinineclass_1</th>\n",
       "      <td>0.004790</td>\n",
       "    </tr>\n",
       "    <tr>\n",
       "      <th>Creatinineclass_2</th>\n",
       "      <td>0.004277</td>\n",
       "    </tr>\n",
       "    <tr>\n",
       "      <th>Hyperlipemia</th>\n",
       "      <td>0.001904</td>\n",
       "    </tr>\n",
       "    <tr>\n",
       "      <th>classifyage_1</th>\n",
       "      <td>0.000000</td>\n",
       "    </tr>\n",
       "    <tr>\n",
       "      <th>Creatinineclass_0</th>\n",
       "      <td>0.000000</td>\n",
       "    </tr>\n",
       "    <tr>\n",
       "      <th>classifyage_5</th>\n",
       "      <td>0.000000</td>\n",
       "    </tr>\n",
       "    <tr>\n",
       "      <th>classifySystolicbloodpressure_0</th>\n",
       "      <td>0.000000</td>\n",
       "    </tr>\n",
       "    <tr>\n",
       "      <th>deficiencyanemias</th>\n",
       "      <td>0.000000</td>\n",
       "    </tr>\n",
       "    <tr>\n",
       "      <th>classifySystolicbloodpressure_2</th>\n",
       "      <td>0.000000</td>\n",
       "    </tr>\n",
       "    <tr>\n",
       "      <th>classifySystolicbloodpressure_3</th>\n",
       "      <td>0.000000</td>\n",
       "    </tr>\n",
       "    <tr>\n",
       "      <th>classifySystolicbloodpressure_4</th>\n",
       "      <td>0.000000</td>\n",
       "    </tr>\n",
       "    <tr>\n",
       "      <th>Diastolic_blood_pressure_class_0</th>\n",
       "      <td>0.000000</td>\n",
       "    </tr>\n",
       "    <tr>\n",
       "      <th>Diastolic_blood_pressure_class_1</th>\n",
       "      <td>0.000000</td>\n",
       "    </tr>\n",
       "    <tr>\n",
       "      <th>Diastolic_blood_pressure_class_2</th>\n",
       "      <td>0.000000</td>\n",
       "    </tr>\n",
       "    <tr>\n",
       "      <th>Diastolic_blood_pressure_class_3</th>\n",
       "      <td>0.000000</td>\n",
       "    </tr>\n",
       "  </tbody>\n",
       "</table>\n",
       "</div>"
      ],
      "text/plain": [
       "                                         0\n",
       "Diastolic blood pressure          0.238927\n",
       "Creatinine                        0.230899\n",
       "Systolic blood pressure           0.174494\n",
       "age                               0.074119\n",
       "Renal failure                     0.067695\n",
       "hypertensive                      0.031065\n",
       "classifyage_3                     0.027511\n",
       "gender                            0.023725\n",
       "atrialfibrillation                0.022747\n",
       "diabetes                          0.022468\n",
       "depression                        0.016898\n",
       "group                             0.014370\n",
       "CHD with no MI                    0.010401\n",
       "classifyage_4                     0.009580\n",
       "classifySystolicbloodpressure_1   0.008877\n",
       "COPD                              0.008733\n",
       "classifyage_2                     0.006520\n",
       "Creatinineclass_1                 0.004790\n",
       "Creatinineclass_2                 0.004277\n",
       "Hyperlipemia                      0.001904\n",
       "classifyage_1                     0.000000\n",
       "Creatinineclass_0                 0.000000\n",
       "classifyage_5                     0.000000\n",
       "classifySystolicbloodpressure_0   0.000000\n",
       "deficiencyanemias                 0.000000\n",
       "classifySystolicbloodpressure_2   0.000000\n",
       "classifySystolicbloodpressure_3   0.000000\n",
       "classifySystolicbloodpressure_4   0.000000\n",
       "Diastolic_blood_pressure_class_0  0.000000\n",
       "Diastolic_blood_pressure_class_1  0.000000\n",
       "Diastolic_blood_pressure_class_2  0.000000\n",
       "Diastolic_blood_pressure_class_3  0.000000"
      ]
     },
     "execution_count": 78,
     "metadata": {},
     "output_type": "execute_result"
    }
   ],
   "source": [
    "decision_tree = DecisionTreeClassifier()\n",
    "decision_tree.fit(X_train2, y_train2)\n",
    "predictors = X_train2.columns\n",
    "\n",
    "coef = pd.Series(decision_tree.feature_importances_, predictors).sort_values(ascending=False)\n",
    "coef = coef.to_frame()\n",
    "coef"
   ]
  },
  {
   "cell_type": "code",
   "execution_count": 79,
   "metadata": {},
   "outputs": [],
   "source": [
    "#### From the decision tree algorithm Diastolic blood pressure, creatinine, Systolic blood pressure follow by age and renal failure have the highest correlation with the target i.e. outcome."
   ]
  },
  {
   "cell_type": "code",
   "execution_count": 80,
   "metadata": {},
   "outputs": [
    {
     "data": {
      "text/plain": [
       "atrialfibrillation                0.094515\n",
       "age                               0.080691\n",
       "Creatinineclass                   0.070176\n",
       "classifyage                       0.058386\n",
       "Creatinine                        0.040358\n",
       "CHD with no MI                   -0.008978\n",
       "gender                           -0.029453\n",
       "group                            -0.048720\n",
       "depression                       -0.049579\n",
       "hypertensive                     -0.052289\n",
       "diabetes                         -0.053000\n",
       "Diastolic blood pressure         -0.059339\n",
       "Diastolic_blood_pressure_class   -0.068205\n",
       "Hyperlipemia                     -0.080105\n",
       "Renal failure                    -0.087078\n",
       "COPD                             -0.088552\n",
       "classifySystolicbloodpressure    -0.107681\n",
       "deficiencyanemias                -0.108339\n",
       "Systolic blood pressure          -0.123057\n",
       "Name: outcome, dtype: float64"
      ]
     },
     "execution_count": 80,
     "metadata": {},
     "output_type": "execute_result"
    }
   ],
   "source": [
    "target_corr"
   ]
  },
  {
   "cell_type": "code",
   "execution_count": 81,
   "metadata": {},
   "outputs": [
    {
     "data": {
      "text/plain": [
       "Index(['Diastolic blood pressure', 'Creatinine', 'Systolic blood pressure',\n",
       "       'age', 'Renal failure', 'hypertensive', 'classifyage_3', 'gender',\n",
       "       'atrialfibrillation', 'diabetes', 'depression', 'group',\n",
       "       'CHD with no MI', 'classifyage_4', 'classifySystolicbloodpressure_1',\n",
       "       'COPD', 'classifyage_2', 'Creatinineclass_1', 'Creatinineclass_2',\n",
       "       'Hyperlipemia'],\n",
       "      dtype='object')"
      ]
     },
     "execution_count": 81,
     "metadata": {},
     "output_type": "execute_result"
    }
   ],
   "source": [
    "coef.index[:20]"
   ]
  },
  {
   "cell_type": "code",
   "execution_count": 82,
   "metadata": {},
   "outputs": [],
   "source": [
    "###Drop Creatinineclass and classifyage because of higher multicolinearity with Creatinine and age respectively"
   ]
  },
  {
   "cell_type": "code",
   "execution_count": 83,
   "metadata": {},
   "outputs": [],
   "source": [
    "#A18\n",
    "\n",
    "imp_feature = ['atrialfibrillation', 'Diastolic blood pressure', 'Creatinineclass_1', 'Systolic blood pressure',\n",
    "       'age', 'Renal failure', 'hypertensive', 'depression', 'Creatinine', 'classifyage_3', 'diabetes',\n",
    "       'gender', 'Hyperlipemia']"
   ]
  },
  {
   "cell_type": "code",
   "execution_count": 84,
   "metadata": {},
   "outputs": [],
   "source": [
    "## Select feature that are to be tested\n",
    "\n",
    "X_train2_imp = X_train2[imp_feature]"
   ]
  },
  {
   "cell_type": "code",
   "execution_count": 85,
   "metadata": {},
   "outputs": [],
   "source": [
    "def  process(data2):\n",
    "     cols = [ 'group', 'outcome', 'age', 'gender', 'hypertensive', 'atrialfibrillation', 'CHD with no MI', 'diabetes', 'deficiencyanemias', 'depression', 'Hyperlipemia', 'Renal failure', 'COPD', 'Creatinine', 'Diastolic blood pressure', 'Systolic blood pressure', ]\n",
    "     data2 = pd.read_csv('icudata.csv', usecols=cols)\n",
    "\n",
    "     data2.reset_index(drop=True, inplace=True)\n",
    "     \n",
    "     train2,test2 = train_test_split(\n",
    "     data2, test_size=0.2,\n",
    "     random_state=42\n",
    ")\n",
    "     test2.reset_index(drop=True, inplace=True)\n",
    "                                     \n",
    "     test2 = test2.dropna()\n",
    "     \n",
    "     test2_out = drop_outlier(test2,'age')\n",
    "\n",
    "     target = 'outcome'\n",
    "     \n",
    "     X_test2 = test2_out.drop(target, axis=1)\n",
    "     y_test2 = test2_out[target]\n",
    "\n",
    "     X_test2['classifySystolicbloodpressure'] = X_test2['Systolic blood pressure'].apply(classifySystolicbloodpressure)\n",
    "     X_test2['classifySystolicbloodpressure'] = classifySystolicbloodpressure_encoder.transform(X_test2[['classifySystolicbloodpressure']])\n",
    "\n",
    "     X_test2['Diastolic_blood_pressure_class'] = X_test2['Diastolic blood pressure'].apply(classifyDiastolicbloodpressure)\n",
    "     X_test2['Diastolic_blood_pressure_class'] = classifyDiastolicbloodpressure_encoder.transform(X_test2[['Diastolic_blood_pressure_class']])\n",
    "\n",
    "     X_test2['Creatinineclass'] = X_test2['Creatinine'].apply(Creatinineclass)\n",
    "     X_test2['Creatinineclass'] = Creatinineclass_encoder.transform(X_test2[['Creatinineclass']])\n",
    "\n",
    "     X_test2['classifyage'] = X_test2['age'].apply(classifyage)\n",
    "     X_test2['classifyage'] = classifyage_encoder.transform(X_test2[['classifyage']])\n",
    "\n",
    "\n",
    "     encoded_features = onehotencoder.transform(X_test2[['Creatinineclass', 'classifyage', 'classifySystolicbloodpressure', 'Diastolic_blood_pressure_class']]).toarray()\n",
    "\n",
    "     # Get the feature names for the encoded columns\n",
    "     encoded_feature_names = onehotencoder.get_feature_names_out(['Creatinineclass', 'classifyage', 'classifySystolicbloodpressure', 'Diastolic_blood_pressure_class'])\n",
    "\n",
    "     # Create a DataFrame for the encoded features\n",
    "     encoded_df = pd.DataFrame(encoded_features, columns=encoded_feature_names)\n",
    "\n",
    "     X_test2 = pd.concat([X_test2.drop(['Creatinineclass', 'classifyage', 'classifySystolicbloodpressure', 'Diastolic_blood_pressure_class'], axis=1), encoded_df], axis=1)\n",
    "\n",
    "     print(encoded_df.shape)\n",
    "\n",
    "     print(X_test2.shape)\n",
    "\n",
    "     X_test2_imp = X_test2[imp_feature]\n",
    "\n",
    "     return X_test2_imp, y_test2   \n",
    "    "
   ]
  },
  {
   "cell_type": "code",
   "execution_count": 86,
   "metadata": {},
   "outputs": [
    {
     "name": "stdout",
     "output_type": "stream",
     "text": [
      "(230, 17)\n",
      "(230, 32)\n"
     ]
    }
   ],
   "source": [
    "X_test2, y_test2 = process(test2)"
   ]
  },
  {
   "cell_type": "code",
   "execution_count": 87,
   "metadata": {},
   "outputs": [
    {
     "data": {
      "text/plain": [
       "(230, 13)"
      ]
     },
     "execution_count": 87,
     "metadata": {},
     "output_type": "execute_result"
    }
   ],
   "source": [
    "X_test2.shape"
   ]
  },
  {
   "cell_type": "code",
   "execution_count": 88,
   "metadata": {},
   "outputs": [
    {
     "data": {
      "text/html": [
       "<div>\n",
       "<style scoped>\n",
       "    .dataframe tbody tr th:only-of-type {\n",
       "        vertical-align: middle;\n",
       "    }\n",
       "\n",
       "    .dataframe tbody tr th {\n",
       "        vertical-align: top;\n",
       "    }\n",
       "\n",
       "    .dataframe thead th {\n",
       "        text-align: right;\n",
       "    }\n",
       "</style>\n",
       "<table border=\"1\" class=\"dataframe\">\n",
       "  <thead>\n",
       "    <tr style=\"text-align: right;\">\n",
       "      <th></th>\n",
       "      <th>atrialfibrillation</th>\n",
       "      <th>Diastolic blood pressure</th>\n",
       "      <th>Creatinineclass_1</th>\n",
       "      <th>Systolic blood pressure</th>\n",
       "      <th>age</th>\n",
       "      <th>Renal failure</th>\n",
       "      <th>hypertensive</th>\n",
       "      <th>depression</th>\n",
       "      <th>Creatinine</th>\n",
       "      <th>classifyage_3</th>\n",
       "      <th>diabetes</th>\n",
       "      <th>gender</th>\n",
       "      <th>Hyperlipemia</th>\n",
       "    </tr>\n",
       "  </thead>\n",
       "  <tbody>\n",
       "    <tr>\n",
       "      <th>0</th>\n",
       "      <td>0</td>\n",
       "      <td>66.619048</td>\n",
       "      <td>0.0</td>\n",
       "      <td>100.476191</td>\n",
       "      <td>63</td>\n",
       "      <td>1</td>\n",
       "      <td>1</td>\n",
       "      <td>0</td>\n",
       "      <td>4.450000</td>\n",
       "      <td>1.0</td>\n",
       "      <td>0</td>\n",
       "      <td>1</td>\n",
       "      <td>0</td>\n",
       "    </tr>\n",
       "    <tr>\n",
       "      <th>1</th>\n",
       "      <td>1</td>\n",
       "      <td>61.809524</td>\n",
       "      <td>0.0</td>\n",
       "      <td>151.000000</td>\n",
       "      <td>88</td>\n",
       "      <td>1</td>\n",
       "      <td>1</td>\n",
       "      <td>0</td>\n",
       "      <td>1.400000</td>\n",
       "      <td>0.0</td>\n",
       "      <td>1</td>\n",
       "      <td>2</td>\n",
       "      <td>1</td>\n",
       "    </tr>\n",
       "    <tr>\n",
       "      <th>2</th>\n",
       "      <td>0</td>\n",
       "      <td>57.650000</td>\n",
       "      <td>1.0</td>\n",
       "      <td>130.200000</td>\n",
       "      <td>80</td>\n",
       "      <td>1</td>\n",
       "      <td>1</td>\n",
       "      <td>0</td>\n",
       "      <td>1.253846</td>\n",
       "      <td>0.0</td>\n",
       "      <td>0</td>\n",
       "      <td>2</td>\n",
       "      <td>1</td>\n",
       "    </tr>\n",
       "    <tr>\n",
       "      <th>3</th>\n",
       "      <td>1</td>\n",
       "      <td>63.409091</td>\n",
       "      <td>1.0</td>\n",
       "      <td>107.818182</td>\n",
       "      <td>82</td>\n",
       "      <td>0</td>\n",
       "      <td>1</td>\n",
       "      <td>0</td>\n",
       "      <td>0.987500</td>\n",
       "      <td>0.0</td>\n",
       "      <td>0</td>\n",
       "      <td>1</td>\n",
       "      <td>0</td>\n",
       "    </tr>\n",
       "    <tr>\n",
       "      <th>4</th>\n",
       "      <td>0</td>\n",
       "      <td>24.736842</td>\n",
       "      <td>0.0</td>\n",
       "      <td>104.789474</td>\n",
       "      <td>80</td>\n",
       "      <td>0</td>\n",
       "      <td>1</td>\n",
       "      <td>0</td>\n",
       "      <td>1.800000</td>\n",
       "      <td>0.0</td>\n",
       "      <td>0</td>\n",
       "      <td>1</td>\n",
       "      <td>0</td>\n",
       "    </tr>\n",
       "    <tr>\n",
       "      <th>...</th>\n",
       "      <td>...</td>\n",
       "      <td>...</td>\n",
       "      <td>...</td>\n",
       "      <td>...</td>\n",
       "      <td>...</td>\n",
       "      <td>...</td>\n",
       "      <td>...</td>\n",
       "      <td>...</td>\n",
       "      <td>...</td>\n",
       "      <td>...</td>\n",
       "      <td>...</td>\n",
       "      <td>...</td>\n",
       "      <td>...</td>\n",
       "    </tr>\n",
       "    <tr>\n",
       "      <th>225</th>\n",
       "      <td>1</td>\n",
       "      <td>70.136364</td>\n",
       "      <td>1.0</td>\n",
       "      <td>115.545455</td>\n",
       "      <td>73</td>\n",
       "      <td>0</td>\n",
       "      <td>1</td>\n",
       "      <td>0</td>\n",
       "      <td>1.100000</td>\n",
       "      <td>1.0</td>\n",
       "      <td>1</td>\n",
       "      <td>1</td>\n",
       "      <td>1</td>\n",
       "    </tr>\n",
       "    <tr>\n",
       "      <th>226</th>\n",
       "      <td>1</td>\n",
       "      <td>58.347826</td>\n",
       "      <td>1.0</td>\n",
       "      <td>108.000000</td>\n",
       "      <td>85</td>\n",
       "      <td>0</td>\n",
       "      <td>0</td>\n",
       "      <td>0</td>\n",
       "      <td>1.166667</td>\n",
       "      <td>0.0</td>\n",
       "      <td>0</td>\n",
       "      <td>1</td>\n",
       "      <td>1</td>\n",
       "    </tr>\n",
       "    <tr>\n",
       "      <th>227</th>\n",
       "      <td>0</td>\n",
       "      <td>62.047619</td>\n",
       "      <td>1.0</td>\n",
       "      <td>120.380952</td>\n",
       "      <td>88</td>\n",
       "      <td>0</td>\n",
       "      <td>1</td>\n",
       "      <td>0</td>\n",
       "      <td>0.840000</td>\n",
       "      <td>0.0</td>\n",
       "      <td>1</td>\n",
       "      <td>2</td>\n",
       "      <td>1</td>\n",
       "    </tr>\n",
       "    <tr>\n",
       "      <th>228</th>\n",
       "      <td>0</td>\n",
       "      <td>74.785714</td>\n",
       "      <td>0.0</td>\n",
       "      <td>141.428571</td>\n",
       "      <td>51</td>\n",
       "      <td>0</td>\n",
       "      <td>1</td>\n",
       "      <td>0</td>\n",
       "      <td>1.754545</td>\n",
       "      <td>0.0</td>\n",
       "      <td>1</td>\n",
       "      <td>2</td>\n",
       "      <td>0</td>\n",
       "    </tr>\n",
       "    <tr>\n",
       "      <th>229</th>\n",
       "      <td>1</td>\n",
       "      <td>65.347826</td>\n",
       "      <td>1.0</td>\n",
       "      <td>109.695652</td>\n",
       "      <td>78</td>\n",
       "      <td>0</td>\n",
       "      <td>0</td>\n",
       "      <td>0</td>\n",
       "      <td>1.069231</td>\n",
       "      <td>0.0</td>\n",
       "      <td>0</td>\n",
       "      <td>1</td>\n",
       "      <td>1</td>\n",
       "    </tr>\n",
       "  </tbody>\n",
       "</table>\n",
       "<p>230 rows × 13 columns</p>\n",
       "</div>"
      ],
      "text/plain": [
       "     atrialfibrillation  Diastolic blood pressure  Creatinineclass_1  \\\n",
       "0                     0                 66.619048                0.0   \n",
       "1                     1                 61.809524                0.0   \n",
       "2                     0                 57.650000                1.0   \n",
       "3                     1                 63.409091                1.0   \n",
       "4                     0                 24.736842                0.0   \n",
       "..                  ...                       ...                ...   \n",
       "225                   1                 70.136364                1.0   \n",
       "226                   1                 58.347826                1.0   \n",
       "227                   0                 62.047619                1.0   \n",
       "228                   0                 74.785714                0.0   \n",
       "229                   1                 65.347826                1.0   \n",
       "\n",
       "     Systolic blood pressure  age  Renal failure  hypertensive  depression  \\\n",
       "0                 100.476191   63              1             1           0   \n",
       "1                 151.000000   88              1             1           0   \n",
       "2                 130.200000   80              1             1           0   \n",
       "3                 107.818182   82              0             1           0   \n",
       "4                 104.789474   80              0             1           0   \n",
       "..                       ...  ...            ...           ...         ...   \n",
       "225               115.545455   73              0             1           0   \n",
       "226               108.000000   85              0             0           0   \n",
       "227               120.380952   88              0             1           0   \n",
       "228               141.428571   51              0             1           0   \n",
       "229               109.695652   78              0             0           0   \n",
       "\n",
       "     Creatinine  classifyage_3  diabetes  gender  Hyperlipemia  \n",
       "0      4.450000            1.0         0       1             0  \n",
       "1      1.400000            0.0         1       2             1  \n",
       "2      1.253846            0.0         0       2             1  \n",
       "3      0.987500            0.0         0       1             0  \n",
       "4      1.800000            0.0         0       1             0  \n",
       "..          ...            ...       ...     ...           ...  \n",
       "225    1.100000            1.0         1       1             1  \n",
       "226    1.166667            0.0         0       1             1  \n",
       "227    0.840000            0.0         1       2             1  \n",
       "228    1.754545            0.0         1       2             0  \n",
       "229    1.069231            0.0         0       1             1  \n",
       "\n",
       "[230 rows x 13 columns]"
      ]
     },
     "execution_count": 88,
     "metadata": {},
     "output_type": "execute_result"
    }
   ],
   "source": [
    "X_test2"
   ]
  },
  {
   "cell_type": "code",
   "execution_count": 89,
   "metadata": {},
   "outputs": [],
   "source": [
    "#Prediction"
   ]
  },
  {
   "cell_type": "code",
   "execution_count": 90,
   "metadata": {},
   "outputs": [],
   "source": [
    "#Write a function for multiple model selection\n",
    "def model_to_use(input_ml_algo):\n",
    "    if input_ml_algo == 'DT':\n",
    "        model = DecisionTreeClassifier()\n",
    "    elif input_ml_algo == 'RF':\n",
    "        model = RandomForestClassifier()\n",
    "    elif input_ml_algo == 'XGBC':\n",
    "        model = XGBClassifier()\n",
    "    elif input_ml_algo == 'LGBMC':\n",
    "        model = LGBMClassifier()\n",
    "    elif input_ml_algo=='LR':\n",
    "        model=LogisticRegression()\n",
    "    return model"
   ]
  },
  {
   "cell_type": "code",
   "execution_count": 91,
   "metadata": {},
   "outputs": [],
   "source": [
    "#Write a function to evaluate the performance of the model, \n",
    "# print the AUC curve as well as the confusion matrix table\n",
    "def performance(model,X_test, y_test):\n",
    "    y_pred = model.predict(X_test)\n",
    "\n",
    "    # Predict probability for test dataset\n",
    "    y_pred_prob = model.predict_proba(X_test)\n",
    "    y_pred_prob = [x[1] for x in y_pred_prob]\n",
    "\n",
    "    disp = ConfusionMatrixDisplay.from_estimator(\n",
    "    model, X_test, y_test, \n",
    "    cmap='Blues', values_format='d',\n",
    "    display_labels=['Alive','Death']\n",
    " )\n",
    "\n",
    "    print(\"\\n Accuracy Score : \\n \",accuracy_score(y_test,y_pred))\n",
    "    print(\"\\n AUC Score : \\n\", roc_auc_score(y_test, y_pred_prob))\n",
    "    print(\"\\n Confusion Matrix : \\n \",confusion_matrix(y_test, y_pred))\n",
    "    print(\"\\n Classification Report : \\n\",classification_report(y_test, y_pred))\n",
    "    plt.show()"
   ]
  },
  {
   "cell_type": "code",
   "execution_count": 92,
   "metadata": {},
   "outputs": [
    {
     "name": "stdout",
     "output_type": "stream",
     "text": [
      "\n",
      " Accuracy Score : \n",
      "  0.7521739130434782\n",
      "\n",
      " AUC Score : \n",
      " 0.5464920879428651\n",
      "\n",
      " Confusion Matrix : \n",
      "  [[164  29]\n",
      " [ 28   9]]\n",
      "\n",
      " Classification Report : \n",
      "               precision    recall  f1-score   support\n",
      "\n",
      "         0.0       0.85      0.85      0.85       193\n",
      "         1.0       0.24      0.24      0.24        37\n",
      "\n",
      "    accuracy                           0.75       230\n",
      "   macro avg       0.55      0.55      0.55       230\n",
      "weighted avg       0.75      0.75      0.75       230\n",
      "\n"
     ]
    },
    {
     "data": {
      "image/png": "[encoded data removed]",
      "text/plain": [
       "<Figure size 640x480 with 2 Axes>"
      ]
     },
     "metadata": {},
     "output_type": "display_data"
    }
   ],
   "source": [
    "model1 = model_to_use('DT')\n",
    "model1.fit(X_train2_imp, y_train2)\n",
    "performance(model1, X_test2, y_test2)"
   ]
  },
  {
   "cell_type": "code",
   "execution_count": 93,
   "metadata": {},
   "outputs": [
    {
     "name": "stdout",
     "output_type": "stream",
     "text": [
      "\n",
      " Accuracy Score : \n",
      "  0.8347826086956521\n",
      "\n",
      " AUC Score : \n",
      " 0.6722447836437473\n",
      "\n",
      " Confusion Matrix : \n",
      "  [[192   1]\n",
      " [ 37   0]]\n",
      "\n",
      " Classification Report : \n",
      "               precision    recall  f1-score   support\n",
      "\n",
      "         0.0       0.84      0.99      0.91       193\n",
      "         1.0       0.00      0.00      0.00        37\n",
      "\n",
      "    accuracy                           0.83       230\n",
      "   macro avg       0.42      0.50      0.45       230\n",
      "weighted avg       0.70      0.83      0.76       230\n",
      "\n"
     ]
    },
    {
     "data": {
      "image/png": "[encoded data removed]",
      "text/plain": [
       "<Figure size 640x480 with 2 Axes>"
      ]
     },
     "metadata": {},
     "output_type": "display_data"
    }
   ],
   "source": [
    "model2 = model_to_use('RF')\n",
    "model2.fit(X_train2_imp, y_train2)\n",
    "performance(model2, X_test2, y_test2)"
   ]
  },
  {
   "cell_type": "code",
   "execution_count": 94,
   "metadata": {},
   "outputs": [
    {
     "name": "stdout",
     "output_type": "stream",
     "text": [
      "\n",
      " Accuracy Score : \n",
      "  0.808695652173913\n",
      "\n",
      " AUC Score : \n",
      " 0.6644727629183588\n",
      "\n",
      " Confusion Matrix : \n",
      "  [[182  11]\n",
      " [ 33   4]]\n",
      "\n",
      " Classification Report : \n",
      "               precision    recall  f1-score   support\n",
      "\n",
      "         0.0       0.85      0.94      0.89       193\n",
      "         1.0       0.27      0.11      0.15        37\n",
      "\n",
      "    accuracy                           0.81       230\n",
      "   macro avg       0.56      0.53      0.52       230\n",
      "weighted avg       0.75      0.81      0.77       230\n",
      "\n"
     ]
    },
    {
     "data": {
      "image/png": "[encoded data removed]",
      "text/plain": [
       "<Figure size 640x480 with 2 Axes>"
      ]
     },
     "metadata": {},
     "output_type": "display_data"
    }
   ],
   "source": [
    "model3 = model_to_use('XGBC')\n",
    "model3.fit(X_train2_imp, y_train2)\n",
    "performance(model3, X_test2, y_test2)"
   ]
  },
  {
   "cell_type": "code",
   "execution_count": 95,
   "metadata": {},
   "outputs": [
    {
     "name": "stdout",
     "output_type": "stream",
     "text": [
      "[LightGBM] [Warning] Found whitespace in feature_names, replace with underlines\n",
      "[LightGBM] [Info] Number of positive: 120, number of negative: 802\n",
      "[LightGBM] [Info] Auto-choosing row-wise multi-threading, the overhead of testing was 0.001664 seconds.\n",
      "You can set `force_row_wise=true` to remove the overhead.\n",
      "And if memory is not enough, you can set `force_col_wise=true`.\n",
      "[LightGBM] [Info] Total Bins 841\n",
      "[LightGBM] [Info] Number of data points in the train set: 922, number of used features: 13\n",
      "[LightGBM] [Info] [binary:BoostFromScore]: pavg=0.130152 -> initscore=-1.899617\n",
      "[LightGBM] [Info] Start training from score -1.899617\n",
      "\n",
      " Accuracy Score : \n",
      "  0.8347826086956521\n",
      "\n",
      " AUC Score : \n",
      " 0.6560705783503711\n",
      "\n",
      " Confusion Matrix : \n",
      "  [[187   6]\n",
      " [ 32   5]]\n",
      "\n",
      " Classification Report : \n",
      "               precision    recall  f1-score   support\n",
      "\n",
      "         0.0       0.85      0.97      0.91       193\n",
      "         1.0       0.45      0.14      0.21        37\n",
      "\n",
      "    accuracy                           0.83       230\n",
      "   macro avg       0.65      0.55      0.56       230\n",
      "weighted avg       0.79      0.83      0.80       230\n",
      "\n"
     ]
    },
    {
     "data": {
      "image/png": "[encoded data removed]",
      "text/plain": [
       "<Figure size 640x480 with 2 Axes>"
      ]
     },
     "metadata": {},
     "output_type": "display_data"
    }
   ],
   "source": [
    "model4 = model_to_use('LGBMC')\n",
    "model4.fit(X_train2_imp, y_train2)\n",
    "performance(model4, X_test2, y_test2)"
   ]
  },
  {
   "cell_type": "code",
   "execution_count": 96,
   "metadata": {},
   "outputs": [
    {
     "name": "stdout",
     "output_type": "stream",
     "text": [
      "\n",
      " Accuracy Score : \n",
      "  0.8347826086956521\n",
      "\n",
      " AUC Score : \n",
      " 0.7062036129393643\n",
      "\n",
      " Confusion Matrix : \n",
      "  [[192   1]\n",
      " [ 37   0]]\n",
      "\n",
      " Classification Report : \n",
      "               precision    recall  f1-score   support\n",
      "\n",
      "         0.0       0.84      0.99      0.91       193\n",
      "         1.0       0.00      0.00      0.00        37\n",
      "\n",
      "    accuracy                           0.83       230\n",
      "   macro avg       0.42      0.50      0.45       230\n",
      "weighted avg       0.70      0.83      0.76       230\n",
      "\n"
     ]
    },
    {
     "data": {
      "image/png": "[encoded data removed]",
      "text/plain": [
       "<Figure size 640x480 with 2 Axes>"
      ]
     },
     "metadata": {},
     "output_type": "display_data"
    }
   ],
   "source": [
    "model5 = model_to_use('LR')\n",
    "model5.fit(X_train2_imp, y_train2)\n",
    "performance(model5, X_test2, y_test2)"
   ]
  },
  {
   "cell_type": "code",
   "execution_count": null,
   "metadata": {},
   "outputs": [],
   "source": []
  }
 ],
 "metadata": {
  "kernelspec": {
   "display_name": "base",
   "language": "python",
   "name": "python3"
  },
  "language_info": {
   "codemirror_mode": {
    "name": "ipython",
    "version": 3
   },
   "file_extension": ".py",
   "mimetype": "text/x-python",
   "name": "python",
   "nbconvert_exporter": "python",
   "pygments_lexer": "ipython3",
   "version": "3.11.7"
  }
 },
 "nbformat": 4,
 "nbformat_minor": 2
}
